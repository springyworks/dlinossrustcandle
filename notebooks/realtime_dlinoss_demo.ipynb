{
 "cells": [
  {
   "cell_type": "markdown",
   "id": "7c724ef8",
   "metadata": {},
   "source": [
    "# D-LinOSS Realtime Demo (egui)\n",
    "\n",
    "This notebook launches a small egui window that animates a D-LinOSS layer running on CPU in realtime.\n",
    "\n",
    "Use the single :dep pattern and enable gui, fft, and audio features to hear a gentle Moog-ish sweep for the green input."
   ]
  },
  {
   "cell_type": "code",
   "execution_count": 5,
   "id": "7135808e",
   "metadata": {},
   "outputs": [
    {
     "name": "stdout",
     "output_type": "stream",
     "text": [
      "✅ D-LinOSS Notebooks Environment Ready (No Zip Issues!)\n",
      "CWD: /home/rustuser/projects/rust/active/dlinossrustcandle/notebooks\n",
      "CWD: /home/rustuser/projects/rust/active/dlinossrustcandle/notebooks\n"
     ]
    }
   ],
   "source": [
    ":dep dlinoss-notebooks = { path = \".\", features = [\"gui\", \"audio\"] }\n",
    "\n",
    "// Initialize portable working directory for assets\n",
    "use dlinoss_notebooks::{set_notebook_cwd, set_image_store_rel_dir};\n",
    "set_notebook_cwd().expect(\"failed to set notebook cwd\");\n",
    "set_image_store_rel_dir(\"images_store\").ok();\n",
    "\n",
    "println!(\"✅ D-LinOSS Notebooks Environment Ready (No Zip Issues!)\");\n",
    "println!(\"CWD: {}\", std::env::current_dir().unwrap().display());"
   ]
  },
  {
   "cell_type": "markdown",
   "id": "6eeb19be",
   "metadata": {},
   "source": [
    "## Launch the realtime window + audio\n",
    "\n",
    "The window runs independently; close it to return to the notebook. Enable your speakers/headphones to hear the green input as a gentle Moog-ish sweep."
   ]
  },
  {
   "cell_type": "code",
   "execution_count": 6,
   "id": "e6fce197",
   "metadata": {},
   "outputs": [
    {
     "name": "stdout",
     "output_type": "stream",
     "text": [
      "done (audio)\n"
     ]
    }
   ],
   "source": [
    "use dlinoss_notebooks::anyhow; // re-exported anyhow\n",
    "use dlinoss_notebooks::{DLinOssLayer, DLinOssLayerConfig, Device, DType, Tensor};\n",
    "use dlinoss_notebooks::realtime_gui::{run_realtime_demo_with_audio, TensorProcessor};\n",
    "\n",
    "// Minimal processor that runs the DLinOSS layer on incoming tensors\n",
    "struct DlinossProcessor {\n",
    "    layer: DLinOssLayer,\n",
    "}\n",
    "\n",
    "impl TensorProcessor for DlinossProcessor {\n",
    "    fn process(&mut self, input: &Tensor) -> anyhow::Result<Tensor> {\n",
    "        // Forward expects shape [B, T, In]; TinyApp provides that\n",
    "        Ok(self.layer.forward(input, None)?)\n",
    "    }\n",
    "}\n",
    "\n",
    "(|| -> anyhow::Result<()> {\n",
    "    // Set up a small DLinOSS layer on CPU\n",
    "    let dev = Device::Cpu;\n",
    "    let cfg = DLinOssLayerConfig {\n",
    "        state_dim: 8,\n",
    "        input_dim: 1,\n",
    "        output_dim: 1,\n",
    "        delta_t: 1e-2,\n",
    "        dtype: DType::F32,\n",
    "    };\n",
    "    let layer = DLinOssLayer::new(cfg, &dev)?;\n",
    "    let proc = DlinossProcessor { layer };\n",
    "\n",
    "    // Launch the GUI + audio demo with our processor\n",
    "    run_realtime_demo_with_audio(proc)?;\n",
    "    println!(\"done (audio)\");\n",
    "    Ok(())\n",
    "})().unwrap_or_else(|e| eprintln!(\"error: {e}\"));\n"
   ]
  },
  {
   "cell_type": "code",
   "execution_count": null,
   "id": "61a553d5",
   "metadata": {},
   "outputs": [
    {
     "name": "stdout",
     "output_type": "stream",
     "text": [
      "y dims: [1, 128, 1]\n",
      "CPU-only forward pass: ok\n",
      "CPU-only forward pass: ok\n"
     ]
    },
    {
     "data": {
      "text/plain": [
       "()"
      ]
     },
     "execution_count": 8,
     "metadata": {},
     "output_type": "execute_result"
    },
    {
     "ename": "",
     "evalue": "",
     "output_type": "error",
     "traceback": [
      "\u001b[1;31mThe Kernel crashed while executing code in the current cell or a previous cell. \n",
      "\u001b[1;31mPlease review the code in the cell(s) to identify a possible cause of the failure. \n",
      "\u001b[1;31mClick <a href='https://aka.ms/vscodeJupyterKernelCrash'>here</a> for more info. \n",
      "\u001b[1;31mView Jupyter <a href='command:jupyter.viewOutput'>log</a> for further details."
     ]
    }
   ],
   "source": [
    "/// Notebook helper: CPU-only forward pass check.\n",
    "/// Runs a small sine input through DLinOssLayer and prints y dims.\n",
    "use dlinoss_notebooks::*;            // Tensor, Device, DType, SignalGen, DLinOssLayer, DLinOssLayerConfig\n",
    "use dlinoss_notebooks::anyhow;       // anyhow::Result for closures\n",
    "\n",
    "match (|| -> anyhow::Result<()> {\n",
    "    let dev = Device::Cpu;\n",
    "    let cfg = DLinOssLayerConfig {\n",
    "        state_dim: 8,\n",
    "        input_dim: 1,\n",
    "        output_dim: 1,\n",
    "        delta_t: 1e-2,          // f64\n",
    "        dtype: DType::F32,\n",
    "    };\n",
    "    let layer = DLinOssLayer::new(cfg, &dev)?;\n",
    "\n",
    "    // A short sine burst: shape [1, 128, 1]\n",
    "    let x = SignalGen::sine(128, 2.0, 1e-2)?;\n",
    "    let y = layer.forward(&x, None)?;\n",
    "    println!(\"y dims: {:?}\", y.dims());\n",
    "    Ok(())\n",
    "})() {\n",
    "    Ok(()) => println!(\"CPU-only forward pass: ok\"),\n",
    "    Err(e) => eprintln!(\"CPU-only forward pass error: {e}\"),\n",
    "}\n"
   ]
  },
  {
   "cell_type": "code",
   "execution_count": null,
   "id": "b1a6dd1d",
   "metadata": {},
   "outputs": [],
   "source": []
  }
 ],
 "metadata": {
  "kernelspec": {
   "display_name": "Rust",
   "language": "rust",
   "name": "rust"
  },
  "language_info": {
   "codemirror_mode": "rust",
   "file_extension": ".rs",
   "mimetype": "text/rust",
   "name": "rust",
   "pygment_lexer": "rust",
   "version": ""
  }
 },
 "nbformat": 4,
 "nbformat_minor": 5
}
