{
 "cells": [
  {
   "cell_type": "markdown",
   "id": "7c724ef8",
   "metadata": {},
   "source": [
    "# D-LinOSS Realtime Demo (egui)\n",
    "\n",
    "This notebook launches a small egui window that animates a D-LinOSS layer running on CPU in realtime.\n",
    "\n",
    "Use the single :dep pattern and enable both fft (optional) and gui features."
   ]
  },
  {
   "cell_type": "code",
   "execution_count": 2,
   "id": "44a8a0db",
   "metadata": {
    "vscode": {
     "languageId": "rust"
    }
   },
   "outputs": [
    {
     "ename": "Error",
     "evalue": "mismatched types",
     "output_type": "error",
     "traceback": [
      "mismatched types"
     ]
    }
   ],
   "source": [
    ":dep dlinoss-notebooks = { path = \".\", features = [\"gui\", \"fft\"] }"
   ]
  },
  {
   "cell_type": "markdown",
   "id": "17ae6e84",
   "metadata": {},
   "source": [
    "## Launch the realtime window\n",
    "The window runs independently; close it to return to the notebook."
   ]
  },
  {
   "cell_type": "code",
   "execution_count": null,
   "id": "a272411f",
   "metadata": {
    "vscode": {
     "languageId": "rust"
    }
   },
   "outputs": [],
   "source": [
    "use dlinoss_notebooks::realtime_gui::run_realtime_demo;\n",
    "run_realtime_demo()?;\n",
    "println!(\"done\");"
   ]
  }
 ],
 "metadata": {
  "kernelspec": {
   "display_name": "Rust",
   "language": "rust",
   "name": "rust"
  },
  "language_info": {
   "codemirror_mode": "rust",
   "file_extension": ".rs",
   "mimetype": "text/rust",
   "name": "Rust",
   "pygment_lexer": "rust",
   "version": ""
  }
 },
 "nbformat": 4,
 "nbformat_minor": 5
}
