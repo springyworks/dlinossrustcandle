{
 "cells": [
  {
   "cell_type": "markdown",
   "id": "51849923",
   "metadata": {},
   "source": [
    "# Hello Notebook (Jupytext + Rust)\n",
    "\n",
    "This file is paired with an `.ipynb` via Jupytext (`.jupytext.toml`: `formats = \"ipynb,rs:percent\"`).\n",
    "You can open the paired notebook for rich outputs while keeping this plain Rust file for rust-analyzer.\n",
    "\n",
    "Run as a binary:\n",
    "```bash\n",
    "cargo run -p jupytext-experiment-subcrate --bin hello_notebook\n",
    "```\n",
    "\n",
    "Notes:\n",
    "- Keep the code in standard Rust form so rust-analyzer works.\n",
    "- Use simple `// %%` cell markers for sections."
   ]
  },
  {
   "cell_type": "code",
   "execution_count": 2,
   "id": "88c6f0a6",
   "metadata": {},
   "outputs": [
    {
     "ename": "Error",
     "evalue": "this file contains an unclosed delimiter",
     "output_type": "error",
     "traceback": [
      "fn main() -> anyhow::Result<()> {",
      "                                ^ unclosed delimiter",
      "this file contains an unclosed delimiter"
     ]
    }
   ],
   "source": [
    "fn main() -> anyhow::Result<()> {\n",
    "    println!(\"Hello from a Jupytext-paired Rust notebook! ✨\");"
   ]
  },
  {
   "cell_type": "markdown",
   "id": "dc8a170e",
   "metadata": {},
   "source": [
    "    // ## A tiny computation\n",
    "    // Below we do a simple calculation and print the result. In a notebook, this could be visualized."
   ]
  },
  {
   "cell_type": "code",
   "execution_count": null,
   "id": "76d00d8d",
   "metadata": {},
   "outputs": [],
   "source": [
    "    let xs: Vec<i32> = (0..10).collect();\n",
    "    let sum: i32 = xs.iter().sum();\n",
    "    println!(\"Sum 0..9 = {}\", sum);"
   ]
  },
  {
   "cell_type": "markdown",
   "id": "b7b4f94b",
   "metadata": {},
   "source": [
    "    // ### Next steps\n",
    "    // - Add plotting by emitting CSV or using a minimal terminal-based plot.\n",
    "    // - Split code into more cells using `// %%` markers.\n",
    "\n",
    "    Ok(())\n",
    "}"
   ]
  }
 ],
 "metadata": {
  "jupytext": {
   "cell_metadata_filter": "-all",
   "main_language": "rust",
   "notebook_metadata_filter": "-all"
  },
  "kernelspec": {
   "display_name": "Rust",
   "language": "rust",
   "name": "rust"
  },
  "language_info": {
   "codemirror_mode": "rust",
   "file_extension": ".rs",
   "mimetype": "text/rust",
   "name": "rust",
   "pygment_lexer": "rust",
   "version": ""
  }
 },
 "nbformat": 4,
 "nbformat_minor": 5
}
